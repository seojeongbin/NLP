{
  "cells": [
    {
      "cell_type": "markdown",
      "metadata": {
        "id": "AJ_ENnAPf00G"
      },
      "source": [
        "\n",
        "\n",
        "###  gensim\n",
        "* 최근버전에서 pickle을 로드하지 못 하는 문제로 이전 버전을 사용\n",
        "* pip사용시 : `pip install --upgrade gensim==3.2.0`\n",
        "* conda 사용시 : `conda install -c conda-forge gensim==3.2.0`\n",
        "\n",
        "### nltk\n",
        "* pip사용시 : `pip install -U nltk`\n",
        "* conda 사용시 : `conda install -c anaconda nltk`"
      ]
    },
    {
      "cell_type": "markdown",
      "metadata": {
        "id": "ee60PlWvf00K"
      },
      "source": [
        "## [Bag of Words Meets Bags of Popcorn | Kaggle](https://www.kaggle.com/c/word2vec-nlp-tutorial#part-3-more-fun-with-word-vectors)\n",
        "\n",
        "\n",
        "\n",
        "###  첫 번째 시도(average feature vectors)\n",
        "- 튜토리얼2의 코드로 벡터의 평균을 구한다.\n",
        "\n",
        "### 두 번째 시도(K-means)\n",
        "- Word2Vec은 의미가 관련있는 단어들의 클러스터를 생성하기 때문에 클러스터 내의 단어 유사성을 이용하는 것이다.\n",
        "- 이런식으로 벡터를 그룹화 하는 것을 \"vector quantization(벡터 양자화)\"라고 한다.\n",
        "- 이를 위해서는 K-means와 같은 클러스터링 알고리즘을 사용하여 클러스터라는 단어의 중심을 찾아야 한다.\n",
        "- 비지도학습인 K-means를 통해 클러스터링을 하고 지도학습인 랜덤포레스트로 리뷰가 추천인지 아닌지를 예측한다."
      ]
    },
    {
      "cell_type": "code",
      "execution_count": null,
      "metadata": {
        "id": "Z5BpX0vff00M"
      },
      "outputs": [],
      "source": [
        "import pandas as pd\n",
        "import numpy as np\n",
        "from gensim.models import Word2Vec\n",
        "from sklearn.cluster import KMeans\n",
        "from sklearn.ensemble import RandomForestClassifier\n",
        "\n",
        "from bs4 import BeautifulSoup\n",
        "import re\n",
        "import time\n",
        "\n",
        "from nltk.corpus import stopwords\n",
        "import nltk.data\n",
        "\n",
        "import matplotlib.pyplot as plt\n",
        "import seaborn as sns\n",
        "%matplotlib inline"
      ]
    },
    {
      "cell_type": "code",
      "execution_count": null,
      "metadata": {
        "id": "1PAygbTzf00O",
        "outputId": "cc23c1c5-0818-4c87-8b50-4709e0c9acd2"
      },
      "outputs": [
        {
          "data": {
            "text/plain": [
              "<gensim.models.word2vec.Word2Vec at 0x119224dd8>"
            ]
          },
          "execution_count": 3,
          "metadata": {},
          "output_type": "execute_result"
        }
      ],
      "source": [
        "model = Word2Vec.load('300features_40minwords_10text') # gensim 모델 load\n",
        "model"
      ]
    },
    {
      "cell_type": "code",
      "execution_count": null,
      "metadata": {
        "id": "p-GWB8jCf00Q",
        "outputId": "857f107c-6f77-4e8b-8fe7-c73cbcea6d15"
      },
      "outputs": [
        {
          "name": "stderr",
          "output_type": "stream",
          "text": [
            "/Users/corazzon/codes/notebook/lib/python3.7/site-packages/ipykernel_launcher.py:6: DeprecationWarning: Call to deprecated `syn0` (Attribute will be removed in 4.0.0, use self.vectors instead).\n",
            "  \n"
          ]
        },
        {
          "data": {
            "text/plain": [
              "numpy.ndarray"
            ]
          },
          "execution_count": 4,
          "metadata": {},
          "output_type": "execute_result"
        }
      ],
      "source": [
        "# 숫자로 단어를 표현\n",
        "# Word2Vec 모델은 어휘의 각 단어에 대한 feature 벡터로 구성되며 \n",
        "# 'syn0'이라는 넘파이 배열로 저장된다 : 그래서 모델의 확장명이 .syn0임 그냥 넘파이 ndarray의 특수한 형태라고 생각하면됨\n",
        "# syn0의 행 수는 모델 어휘의 단어 수\n",
        "# 컬럼 수는 2 부에서 설정 한 피처 벡터의 크기\n",
        "type(model.wv.syn0)"
      ]
    },
    {
      "cell_type": "code",
      "execution_count": null,
      "metadata": {
        "id": "IJc3DzmKf00R",
        "outputId": "5c92c8c2-3fb7-454d-d597-5f3051a90310"
      },
      "outputs": [
        {
          "name": "stderr",
          "output_type": "stream",
          "text": [
            "/Users/corazzon/codes/notebook/lib/python3.7/site-packages/ipykernel_launcher.py:3: DeprecationWarning: Call to deprecated `syn0` (Attribute will be removed in 4.0.0, use self.vectors instead).\n",
            "  This is separate from the ipykernel package so we can avoid doing imports until\n"
          ]
        },
        {
          "data": {
            "text/plain": [
              "(11986, 300)"
            ]
          },
          "execution_count": 5,
          "metadata": {},
          "output_type": "execute_result"
        }
      ],
      "source": [
        "# syn0의 행 수는 모델 어휘의 단어 수\n",
        "# 열 수는 2부에서 설정한 특징 벡터의 크기\n",
        "model.wv.syn0.shape"
      ]
    },
    {
      "cell_type": "code",
      "execution_count": null,
      "metadata": {
        "id": "LS1ZSfUmf00S",
        "outputId": "1e5c534f-16d7-4ca1-b418-b105a9fd0969"
      },
      "outputs": [
        {
          "data": {
            "text/plain": [
              "(300,)"
            ]
          },
          "execution_count": 6,
          "metadata": {},
          "output_type": "execute_result"
        }
      ],
      "source": [
        "# 개별 단어 벡터 접근\n",
        "model.wv['flower'].shape"
      ]
    },
    {
      "cell_type": "code",
      "execution_count": null,
      "metadata": {
        "id": "jxWHjAyAf00S",
        "outputId": "4b1312f6-8a98-468c-f55e-efd94a88d952"
      },
      "outputs": [
        {
          "data": {
            "text/plain": [
              "array([ 0.01834406,  0.15109576,  0.08696021, -0.08180085,  0.18334594,\n",
              "       -0.00667839,  0.09402244, -0.04177794,  0.04398022, -0.03917499],\n",
              "      dtype=float32)"
            ]
          },
          "execution_count": 7,
          "metadata": {},
          "output_type": "execute_result"
        }
      ],
      "source": [
        "model.wv['flower'][:10]"
      ]
    },
    {
      "cell_type": "markdown",
      "metadata": {
        "id": "8EZGEGZof00T"
      },
      "source": [
        "## K-means (K평균)클러스터링으로 데이터 묶기\n",
        "\n",
        "* [K-평균 알고리즘 - 위키백과, 우리 모두의 백과사전](https://ko.wikipedia.org/wiki/K-%ED%8F%89%EA%B7%A0_%EC%95%8C%EA%B3%A0%EB%A6%AC%EC%A6%98)\n",
        "\n",
        "- 클러스터링은 비지도 학습 기법\n",
        "- 클러스터링은 유사성 등 개념에 기초해 몇몇 그룹으로 분류하는 기법\n",
        "- 클러스터링의 목적은 샘플(실수로 구성된 n차원의 벡터)을 내부적으로는 비슷하지만 외부적으로 공통 분모가 없는 여러 그룹으로 묶는 것\n",
        "- 특정 차원의 범위가 다른 차원과 차이가 크면 클러스터링 하기 전에 스케일을 조정해야 한다.\n",
        "\n",
        "    1. 최초 센트로이드(centroid)(중심점)로 k개의 벡터를 무작위로 선정한다.\n",
        "    2. 각 샘플을 그 위치에서 가장 가까운 센트로이드에 할당한다.\n",
        "    3. 센트로이드의 위치를 재계산한다.\n",
        "    4. 센트로이드가 더 이상 움직이지 않을 때까지 2와 3을 반복한다.\n",
        "\n",
        "참고 : [책] 모두의 데이터 과학(with 파이썬)"
      ]
    },
    {
      "cell_type": "code",
      "execution_count": null,
      "metadata": {
        "id": "spbGzSQ9f00U",
        "outputId": "4447b141-3a90-4b94-d6df-63e3caba8c02"
      },
      "outputs": [
        {
          "name": "stderr",
          "output_type": "stream",
          "text": [
            "/Users/corazzon/codes/notebook/lib/python3.7/site-packages/ipykernel_launcher.py:5: DeprecationWarning: Call to deprecated `syn0` (Attribute will be removed in 4.0.0, use self.vectors instead).\n",
            "  \"\"\"\n"
          ]
        },
        {
          "data": {
            "text/plain": [
              "2397"
            ]
          },
          "execution_count": 17,
          "metadata": {},
          "output_type": "execute_result"
        }
      ],
      "source": [
        "# 단어 벡터에서 k-means를 실행하고 일부 클러스터를 찍어본다.\n",
        "start = time.time() # 시작시간\n",
        "\n",
        "# 클러스터의 크기 \"k\"를 어휘 크기의 1/5 이나 평균 5단어로 설정한다.\n",
        "word_vectors = model.wv.syn0 # 어휘의 feature vector\n",
        "num_clusters = word_vectors.shape[0] / 5\n",
        "num_clusters = int(num_clusters)\n",
        "num_clusters"
      ]
    },
    {
      "cell_type": "code",
      "execution_count": null,
      "metadata": {
        "id": "6bic2nItf00V",
        "outputId": "5874b520-6c9a-4156-df46-06de5825530c"
      },
      "outputs": [
        {
          "name": "stderr",
          "output_type": "stream",
          "text": [
            "/Users/corazzon/codes/notebook/lib/python3.7/site-packages/ipykernel_launcher.py:5: DeprecationWarning: Call to deprecated `syn0` (Attribute will be removed in 4.0.0, use self.vectors instead).\n",
            "  \"\"\"\n"
          ]
        },
        {
          "name": "stdout",
          "output_type": "stream",
          "text": [
            "Time taken for K Means clustering:  545.4398248195648 seconds.\n"
          ]
        }
      ],
      "source": [
        "# K means 를 정의하고 학습시킨다.\n",
        "kmeans_clustering = KMeans( n_clusters = num_clusters )\n",
        "idx = kmeans_clustering.fit_predict( word_vectors )\n",
        "\n",
        "# 끝난시간에서 시작시간을 빼서 걸린 시간을 구한다.\n",
        "end = time.time()\n",
        "elapsed = end - start\n",
        "print(\"Time taken for K Means clustering: \", elapsed, \"seconds.\")"
      ]
    },
    {
      "cell_type": "code",
      "execution_count": null,
      "metadata": {
        "id": "UGGJ3Dwvf00V",
        "outputId": "de334b73-4fb4-4e81-e66a-b8ce95980b59"
      },
      "outputs": [
        {
          "name": "stdout",
          "output_type": "stream",
          "text": [
            "\n",
            "Cluster 0\n",
            "['mention', 'note']\n",
            "\n",
            "Cluster 1\n",
            "['brute', 'chronic']\n",
            "\n",
            "Cluster 2\n",
            "['clara', 'tentat']\n",
            "\n",
            "Cluster 3\n",
            "['gray', 'muddi', 'fang', 'pancak', 'bleach', 'greasi', 'platinum']\n",
            "\n",
            "Cluster 4\n",
            "['bender', 'hobo', 'meerkat']\n",
            "\n",
            "Cluster 5\n",
            "['alongsid', 'canon', 'seventh', 'hilton', 'metropoli', 'pantheon']\n",
            "\n",
            "Cluster 6\n",
            "['fred', 'ginger', 'astair', 'williamson', 'macmurray', 'gwynn']\n",
            "\n",
            "Cluster 7\n",
            "['machin', 'nuclear', 'underground', 'invas', 'automat', 'lethal', 'atom', 'locust', 'swarm', 'vacuum', 'obsolet', 'doomsday', 'arsenal', 'malfunct']\n",
            "\n",
            "Cluster 8\n",
            "['cox', 'bradi', 'nielsen', 'cobb', 'hoyt', 'kraus']\n",
            "\n",
            "Cluster 9\n",
            "['violenc', 'mayhem', 'bloodsh', 'gunplay']\n"
          ]
        }
      ],
      "source": [
        "# 각 어휘 단어를 클러스터 번호에 매핑되게 word/Index 사전을 만든다.\n",
        "idx = list(idx)\n",
        "names = model.wv.index2word\n",
        "word_centroid_map = {names[i]: idx[i] for i in range(len(names))}\n",
        "#     word_centroid_map = dict(zip( model.wv.index2word, idx ))\n",
        "\n",
        "# 첫번째 클러스터의 처음 10개를 출력\n",
        "for cluster in range(0,10):\n",
        "    # 클러스터 번호를 출력\n",
        "    print(\"\\nCluster {}\".format(cluster))\n",
        "    \n",
        "    # 클러스터번호와 클러스터에 있는 단어를 찍는다.\n",
        "    words = []\n",
        "    for i in range(0,len(list(word_centroid_map.values()))):\n",
        "        if( list(word_centroid_map.values())[i] == cluster ):\n",
        "            words.append(list(word_centroid_map.keys())[i])\n",
        "    print(words)"
      ]
    },
    {
      "cell_type": "markdown",
      "source": [
        "=> stemming 처리 돼서 무슨 단어인지 못 알아볼 수 있음. 여기 나온 단어가 완전 raw 원본은 아니라고 생각하면 됨 "
      ],
      "metadata": {
        "id": "mtrEvqbmhOqT"
      }
    },
    {
      "cell_type": "code",
      "execution_count": null,
      "metadata": {
        "id": "eYSUue4lf00W"
      },
      "outputs": [],
      "source": [
        "\"\"\"\n",
        "판다스로 데이터프레임 형태의 데이터로 읽어온다.\n",
        "QUOTE_MINIMAL (0), QUOTE_ALL (1), \n",
        "QUOTE_NONNUMERIC (2) or QUOTE_NONE (3).\n",
        "\n",
        "그리고 이전 튜토리얼에서 했던 것처럼 clean_train_reviews 와 \n",
        "clean_test_reviews 로 텍스트를 정제한다.\n",
        "\"\"\"\n",
        "train = pd.read_csv('data/labeledTrainData.tsv', \n",
        "                    header=0, delimiter=\"\\t\", quoting=3)\n",
        "test = pd.read_csv('data/testData.tsv', \n",
        "                   header=0, delimiter=\"\\t\", quoting=3)\n",
        "# unlabeled_train = pd.read_csv( 'data/unlabeledTrainData.tsv', header=0,  delimiter=\"\\t\", quoting=3 )"
      ]
    },
    {
      "cell_type": "code",
      "execution_count": null,
      "metadata": {
        "id": "Afv9yXc2f00Y"
      },
      "outputs": [],
      "source": [
        "from KaggleWord2VecUtility import KaggleWord2VecUtility\n",
        "# 학습 리뷰를 정제한다.\n",
        "clean_train_reviews = []\n",
        "for review in train[\"review\"]:\n",
        "    clean_train_reviews.append(\n",
        "        KaggleWord2VecUtility.review_to_wordlist( review, \\\n",
        "        remove_stopwords=True ))"
      ]
    },
    {
      "cell_type": "code",
      "execution_count": null,
      "metadata": {
        "id": "faF9wSlJf00Y"
      },
      "outputs": [],
      "source": [
        "# 테스트 리뷰를 정제한다.\n",
        "clean_test_reviews = []\n",
        "for review in test[\"review\"]:\n",
        "    clean_test_reviews.append(\n",
        "        KaggleWord2VecUtility.review_to_wordlist( review, \\\n",
        "        remove_stopwords=True ))"
      ]
    },
    {
      "cell_type": "code",
      "execution_count": null,
      "metadata": {
        "id": "WDXT_jeWf00Z",
        "outputId": "78bd5ca6-7299-4f7c-b499-1047bb0e1b68"
      },
      "outputs": [
        {
          "name": "stdout",
          "output_type": "stream",
          "text": [
            "(25000, 2397)\n"
          ]
        },
        {
          "data": {
            "text/plain": [
              "array([[0., 0., 0., ..., 0., 0., 0.],\n",
              "       [0., 0., 0., ..., 0., 0., 0.],\n",
              "       [0., 0., 0., ..., 0., 0., 0.],\n",
              "       [0., 0., 0., ..., 0., 0., 0.],\n",
              "       [0., 0., 0., ..., 0., 0., 0.]], dtype=float32)"
            ]
          },
          "execution_count": 19,
          "metadata": {},
          "output_type": "execute_result"
        }
      ],
      "source": [
        "# bags of centroids 생성\n",
        "# 속도를 위해 centroid 학습 세트 bag을 미리 할당 한다.\n",
        "train_centroids = np.zeros((train[\"review\"].size, num_clusters), \\\n",
        "    dtype=\"float32\" )\n",
        "print(train_centroids.shape)\n",
        "train_centroids[:5]"
      ]
    },
    {
      "cell_type": "code",
      "execution_count": null,
      "metadata": {
        "id": "dwOhFYkFf00a"
      },
      "outputs": [],
      "source": [
        "# centroid 는 두 클러스터의 중심점을 정의 한 다음 중심점의 거리를 측정한 것\n",
        "def create_bag_of_centroids( wordlist, word_centroid_map ):\n",
        "    \n",
        "    # 클러스터의 수는 word / centroid map에서 가장 높은 클러스트 인덱스와 같다.\n",
        "    num_centroids = max( word_centroid_map.values() ) + 1\n",
        "    \n",
        "    # 속도를 위해 bag of centroids vector를 미리 할당한다.\n",
        "    bag_of_centroids = np.zeros( num_centroids, dtype=\"float32\" )\n",
        "    \n",
        "    # 루프를 돌며 단어가 word_centroid_map에 있다면\n",
        "    # 해당되는 클러스터의 수를 하나씩 증가시켜 준다.\n",
        "    for word in wordlist:\n",
        "        if word in word_centroid_map:\n",
        "            index = word_centroid_map[word]\n",
        "            bag_of_centroids[index] += 1\n",
        "    \n",
        "    # bag of centroids를 반환한다.\n",
        "    return bag_of_centroids"
      ]
    },
    {
      "cell_type": "code",
      "execution_count": null,
      "metadata": {
        "id": "jlWmiaHaf00b",
        "outputId": "5db969c8-8082-4b3e-ddf1-d5fd37fd0f40"
      },
      "outputs": [
        {
          "name": "stdout",
          "output_type": "stream",
          "text": [
            "Fitting a random forest to labeled training data...\n",
            "CPU times: user 28.1 s, sys: 104 ms, total: 28.2 s\n",
            "Wall time: 28.3 s\n"
          ]
        }
      ],
      "source": [
        "# 학습 리뷰를 bags of centroids 로 변환한다.\n",
        "counter = 0\n",
        "for review in clean_train_reviews:\n",
        "    train_centroids[counter] = create_bag_of_centroids( review, \\\n",
        "        word_centroid_map )\n",
        "    counter += 1\n",
        "\n",
        "# 테스트 리뷰도 같은 방법으로 반복해 준다.\n",
        "test_centroids = np.zeros(( test[\"review\"].size, num_clusters), \\\n",
        "    dtype=\"float32\" )\n",
        "\n",
        "counter = 0\n",
        "for review in clean_test_reviews:\n",
        "    test_centroids[counter] = create_bag_of_centroids( review, \\\n",
        "        word_centroid_map )\n",
        "    counter += 1\n",
        "\n",
        "\n",
        "# 랜덤포레스트를 사용하여 학습시키고 예측\n",
        "forest = RandomForestClassifier(n_estimators = 100)\n",
        "\n",
        "# train 데이터의 레이블을 통해 학습시키고 예측한다.\n",
        "# 시간이 좀 소요되기 때문에 %time을 통해 걸린 시간을 찍도록 함\n",
        "print(\"Fitting a random forest to labeled training data...\")\n",
        "%time forest = forest.fit(train_centroids, train[\"sentiment\"])"
      ]
    },
    {
      "cell_type": "code",
      "execution_count": null,
      "metadata": {
        "id": "uhxPNXHKf00c",
        "outputId": "129f84ea-fb8e-4094-f054-7309f0d20610"
      },
      "outputs": [
        {
          "name": "stdout",
          "output_type": "stream",
          "text": [
            "(25000, 2397)\n"
          ]
        },
        {
          "data": {
            "text/plain": [
              "0       2479.0\n",
              "1         60.0\n",
              "2         57.0\n",
              "3        286.0\n",
              "4         39.0\n",
              "         ...  \n",
              "2392     870.0\n",
              "2393       0.0\n",
              "2394       1.0\n",
              "2395     589.0\n",
              "2396      68.0\n",
              "Length: 2397, dtype: float32"
            ]
          },
          "execution_count": 53,
          "metadata": {},
          "output_type": "execute_result"
        }
      ],
      "source": [
        "temp = pd.DataFrame(test_centroids)\n",
        "print(temp.shape)\n",
        "temp.sum()"
      ]
    },
    {
      "cell_type": "code",
      "execution_count": null,
      "metadata": {
        "id": "uyDcfpqGf00c",
        "outputId": "7a820e52-9552-4c95-eded-3ba454ad277a"
      },
      "outputs": [
        {
          "name": "stdout",
          "output_type": "stream",
          "text": [
            "CPU times: user 7min 57s, sys: 3.4 s, total: 8min 1s\n",
            "Wall time: 8min 9s\n"
          ]
        }
      ],
      "source": [
        "from sklearn.model_selection import cross_val_score\n",
        "%time score = np.mean(cross_val_score(\\\n",
        "    forest, train_centroids, train['sentiment'], cv=10,\\\n",
        "    scoring='roc_auc'))"
      ]
    },
    {
      "cell_type": "code",
      "execution_count": null,
      "metadata": {
        "id": "7hJgAVuvf00d",
        "outputId": "9494e305-ed20-4471-9d6f-0b8d33cec2e5"
      },
      "outputs": [
        {
          "name": "stdout",
          "output_type": "stream",
          "text": [
            "CPU times: user 1.6 s, sys: 332 ms, total: 1.94 s\n",
            "Wall time: 2.22 s\n"
          ]
        }
      ],
      "source": [
        "%time result = forest.predict(test_centroids)"
      ]
    },
    {
      "cell_type": "code",
      "execution_count": null,
      "metadata": {
        "id": "nbhGkaIZf00e",
        "outputId": "7aee692c-581b-434b-ee8a-19c7ddee3cd4"
      },
      "outputs": [
        {
          "data": {
            "text/plain": [
              "0.5"
            ]
          },
          "execution_count": 33,
          "metadata": {},
          "output_type": "execute_result"
        }
      ],
      "source": [
        "score"
      ]
    },
    {
      "cell_type": "code",
      "execution_count": null,
      "metadata": {
        "id": "Xg2B_uqwf00f"
      },
      "outputs": [],
      "source": [
        "# 결과를 csv로 저장\n",
        "output = pd.DataFrame(data={\"id\":test[\"id\"], \"sentiment\":result})\n",
        "output.to_csv(\"data/submit_BagOfCentroids_{0:.5f}.csv\".format(score), index=False, quoting=3)"
      ]
    },
    {
      "cell_type": "code",
      "execution_count": null,
      "metadata": {
        "id": "2nd81p3Yf00g",
        "outputId": "4d683db9-7642-4de6-8836-b567ef82896a"
      },
      "outputs": [
        {
          "data": {
            "text/plain": [
              "<matplotlib.axes._subplots.AxesSubplot at 0x131e8f240>"
            ]
          },
          "execution_count": 39,
          "metadata": {},
          "output_type": "execute_result"
        },
        {
          "data": {
            "image/png": "[encoded data removed]",
            "text/plain": [
              "<Figure size 864x360 with 2 Axes>"
            ]
          },
          "metadata": {
            "needs_background": "light"
          },
          "output_type": "display_data"
        }
      ],
      "source": [
        "fig, axes = plt.subplots(ncols=2)\n",
        "fig.set_size_inches(12,5)\n",
        "sns.countplot(train['sentiment'], ax=axes[0])\n",
        "sns.countplot(output['sentiment'], ax=axes[1])"
      ]
    },
    {
      "cell_type": "code",
      "execution_count": null,
      "metadata": {
        "id": "d0p37xTwf00h",
        "outputId": "3a49b8c3-81aa-489f-e654-7c610f0b51ee"
      },
      "outputs": [
        {
          "name": "stdout",
          "output_type": "stream",
          "text": [
            "580\n"
          ]
        },
        {
          "data": {
            "text/plain": [
              "0    12790\n",
              "1    12210\n",
              "Name: sentiment, dtype: int64"
            ]
          },
          "execution_count": 40,
          "metadata": {},
          "output_type": "execute_result"
        }
      ],
      "source": [
        "output_sentiment = output['sentiment'].value_counts()\n",
        "print(output_sentiment[0] - output_sentiment[1])\n",
        "output_sentiment"
      ]
    },
    {
      "cell_type": "code",
      "execution_count": null,
      "metadata": {
        "id": "iz3sCAizf00h",
        "outputId": "2f0f4c37-2c84-433a-97af-9e45088d4caf"
      },
      "outputs": [
        {
          "name": "stdout",
          "output_type": "stream",
          "text": [
            "0.625\n"
          ]
        }
      ],
      "source": [
        "# 캐글 점수 0.84908\n",
        "print(330/528)"
      ]
    },
    {
      "cell_type": "code",
      "execution_count": null,
      "metadata": {
        "id": "xD-GTQh4f00i"
      },
      "outputs": [],
      "source": [
        ""
      ]
    }
  ],
  "metadata": {
    "kernelspec": {
      "display_name": "Python 3",
      "language": "python",
      "name": "python3"
    },
    "language_info": {
      "codemirror_mode": {
        "name": "ipython",
        "version": 3
      },
      "file_extension": ".py",
      "mimetype": "text/x-python",
      "name": "python",
      "nbconvert_exporter": "python",
      "pygments_lexer": "ipython3",
      "version": "3.7.6"
    },
    "toc": {
      "base_numbering": 1,
      "nav_menu": {},
      "number_sections": true,
      "sideBar": true,
      "skip_h1_title": false,
      "title_cell": "Table of Contents",
      "title_sidebar": "Contents",
      "toc_cell": false,
      "toc_position": {},
      "toc_section_display": true,
      "toc_window_display": false
    },
    "varInspector": {
      "cols": {
        "lenName": 16,
        "lenType": 16,
        "lenVar": 40
      },
      "kernels_config": {
        "python": {
          "delete_cmd_postfix": "",
          "delete_cmd_prefix": "del ",
          "library": "var_list.py",
          "varRefreshCmd": "print(var_dic_list())"
        },
        "r": {
          "delete_cmd_postfix": ") ",
          "delete_cmd_prefix": "rm(",
          "library": "var_list.r",
          "varRefreshCmd": "cat(var_dic_list()) "
        }
      },
      "types_to_exclude": [
        "module",
        "function",
        "builtin_function_or_method",
        "instance",
        "_Feature"
      ],
      "window_display": false
    },
    "colab": {
      "name": "NLP_3_gensim.ipynb",
      "provenance": [],
      "toc_visible": true
    }
  },
  "nbformat": 4,
  "nbformat_minor": 0
}